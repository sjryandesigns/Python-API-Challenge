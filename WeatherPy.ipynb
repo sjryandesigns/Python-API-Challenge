{
 "cells": [
  {
   "cell_type": "markdown",
   "metadata": {},
   "source": [
    "# WeatherPy\n",
    "----\n",
    "\n",
    "#### Note\n",
    "* Instructions have been included for each segment. You do not have to follow them exactly, but they are included to help you think through the steps."
   ]
  },
  {
   "cell_type": "code",
   "execution_count": 7,
   "metadata": {
    "scrolled": true
   },
   "outputs": [],
   "source": [
    "# Dependencies and Setup\n",
    "import matplotlib.pyplot as plt\n",
    "import pandas as pd\n",
    "import numpy as np\n",
    "import requests\n",
    "import time\n",
    "from scipy.stats import linregress\n",
    "\n",
    "# Import API key\n",
    "from api_keys import weather_api_key\n",
    "\n",
    "# Incorporated citipy to determine city based on latitude and longitude\n",
    "from citipy import citipy\n",
    "\n",
    "# Output File (CSV)\n",
    "output_data_file = \"output_data/cities.csv\"\n",
    "\n",
    "# Range of latitudes and longitudes\n",
    "lat_range = (-90, 90)\n",
    "lng_range = (-180, 180)"
   ]
  },
  {
   "cell_type": "markdown",
   "metadata": {},
   "source": [
    "## Generate Cities List"
   ]
  },
  {
   "cell_type": "code",
   "execution_count": 8,
   "metadata": {},
   "outputs": [
    {
     "data": {
      "text/plain": [
       "612"
      ]
     },
     "execution_count": 8,
     "metadata": {},
     "output_type": "execute_result"
    }
   ],
   "source": [
    "# List for holding lat_lngs and cities\n",
    "lat_lngs = []\n",
    "cities = []\n",
    "\n",
    "# Create a set of random lat and lng combinations\n",
    "lats = np.random.uniform(lat_range[0], lat_range[1], size=1500)\n",
    "lngs = np.random.uniform(lng_range[0], lng_range[1], size=1500)\n",
    "lat_lngs = zip(lats, lngs)\n",
    "\n",
    "# Identify nearest city for each lat, lng combination\n",
    "for lat_lng in lat_lngs:\n",
    "    city = citipy.nearest_city(lat_lng[0], lat_lng[1]).city_name\n",
    "    \n",
    "    # If the city is unique, then add it to a our cities list\n",
    "    if city not in cities:\n",
    "        cities.append(city)\n",
    "\n",
    "# Print the city count to confirm sufficient count\n",
    "len(cities)"
   ]
  },
  {
   "cell_type": "code",
   "execution_count": 16,
   "metadata": {},
   "outputs": [
    {
     "name": "stdout",
     "output_type": "stream",
     "text": [
      "['tondano', 'mahebourg', 'juneau', 'belushya guba', 'nizhneudinsk', 'saskylakh', 'sitka', 'barentsburg', 'novikovo', 'punta arenas', 'saint-philippe', 'ushuaia', 'upernavik', 'mataura', 'sentyabrskiy', 'arraial do cabo', 'cidreira', 'hobart', 'boyabat', 'quatre cocos', 'qaanaaq', 'castro', 'itarema', 'hermanus', 'nanortalik', 'tuktoyaktuk', 'ahipara', 'busselton', 'barrow', 'sabang', 'scarborough', 'tsihombe', 'gidam', 'sao filipe', 'chokurdakh', 'vila velha', 'rikitea', 'vaini', 'kapaa', 'goragorskiy', 'airai', 'mandera', 'cape town', 'alotau', 'broken hill', 'albany', 'leshukonskoye', 'eureka', 'longyearbyen', 'mahon', 'kavieng', 'butaritari', 'bredasdorp', 'namibe', 'kahului', 'taolanaro', 'saint-augustin', 'leningradskiy', 'calhoun', 'wajir', 'venice', 'araouane', 'bengkulu', 'severo-kurilsk', 'cabo san lucas', 'burica', 'lavrentiya', 'warmbad', 'caravelas', 'chivilcoy', 'fortaleza', 'hithadhoo', 'mar del plata', 'poum', 'nizwa', 'georgetown', 'anadyr', 'puerto ayora', 'anchorage', 'umzimvubu', 'lermontovka', 'le vauclin', 'dunedin', 'bluff', 'vanimo', 'comodoro rivadavia', 'seoul', 'attawapiskat', 'knysna', 'hwange', 'kavaratti', 'lebu', 'santa teresa', 'half moon bay', 'samusu', 'vaitupu', 'dikson', 'flin flon', 'balkhash', 'thompson', 'lowestoft', 'jamestown', 'evensk', 'victoria', 'norman wells', 'provideniya', 'pindiga', 'san patricio', 'bethel', 'nguiu', 'bam', 'kourou', 'srednekolymsk', 'khatanga', 'bima', 'samarai', 'kodiak', 'sambava', 'souillac', 'awjilah', 'isabela', 'sibu', 'saldanha', 'saleaula', 'gat', 'port elizabeth', 'nikolskoye', 'billings', 'ostrovnoy', 'bambous virieux', 'kaitangata', 'illoqqortoormiut', 'mogadishu', 'piet retief', 'korla', 'vysha', 'deputatskiy', 'chuy', 'san andres', 'kuala terengganu', 'new norfolk', 'yeppoon', 'vestbygda', 'lorengau', 'rancho palos verdes', 'husavik', 'ilulissat', 'grand river south east', 'coihaique', 'akdepe', 'taman', 'zhezkazgan', 'starosubkhangulovo', 'tiksi', 'mazamari', 'marawi', 'salinas', 'atuona', 'gobabis', 'skagastrond', 'ramtek', 'padang', 'torbay', 'erice', 'pevek', 'lesozavodsk', 'moranbah', 'olkhovka', 'sao francisco do sul', 'sur', 'carnarvon', 'yellowknife', 'ihosy', 'hilo', 'pontefract', 'amderma', 'canovanas', 'labrea', 'tuatapere', 'nizhneyansk', 'edd', 'salalah', 'hami', 'mecca', 'cape coast', 'cape canaveral', 'asau', 'aykhal', 'roblin', 'tasiilaq', 'salinopolis', 'hihifo', 'roald', 'clyde river', 'vranov', 'kabanjahe', 'ngunguru', 'duz', 'nykobing', 'klyuchi', 'mopti', 'roebourne', 'road town', 'igarka', 'sobolevo', 'zhangjiakou', 'saquena', 'nantucket', 'chicama', 'port alfred', 'saint george', 'floresta', 'bandrele', 'fortuna', 'vila', 'stephenville', 'shubarkuduk', 'sioux lookout', 'novaya bryan', 'sola', 'baijiantan', 'aljezur', 'zaoyang', 'menongue', 'jibuti', 'kenai', 'bani walid', 'vila franca do campo', 'lodwar', 'vung tau', 'marcona', 'paamiut', 'melilla', 'hambantota', 'batemans bay', 'saint-pierre', 'tilichiki', 'macau', 'port hawkesbury', 'jardim', 'ramona', 'codrington', 'manado', 'aloleng', 'malwan', 'lolua', 'fuling', 'ola', 'jawhar', 'rio grande', 'bitung', 'bandarbeyla', 'daru', 'san policarpo', 'cap-aux-meules', 'basco', 'talnakh', 'katsuura', 'hovd', 'cocal', 'artyom', 'laguna', 'lanigan', 'nyurba', 'mount gambier', 'ponta do sol', 'milkovo', 'palotina', 'lodja', 'halalo', 'sinnamary', 'winnemucca', 'chumikan', 'iqaluit', 'nago', 'inirida', 'lufilufi', 'valparaiso', 'sosnovo-ozerskoye', 'mys shmidta', 'rehoboth', 'skjervoy', 'shenjiamen', 'ponta delgada', 'north bend', 'butterworth', 'hofn', 'bud', 'mayo', 'kruisfontein', 'udachnyy', 'avera', 'mehamn', 'drayton valley', 'avarua', 'sorvag', 'chunar', 'igrim', 'ganzhou', 'djambala', 'agadez', 'komsomolskiy', 'marienburg', 'dingle', 'ancud', 'vestmannaeyjar', 'sokolac', 'alta floresta', 'talas', 'rawson', 'ulaanbaatar', 'grindavik', 'lushunkou', 'nakatsu', 'monster', 'moose factory', 'cooma', 'divnomorskoye', 'havre-saint-pierre', 'ribeira grande', 'nianzishan', 'lompoc', 'svetlyy', 'praia da vitoria', 'carballo', 'yar-sale', 'shache', 'port-gentil', 'diamantino', 'belgaum', 'denpasar', 'karacakoy', 'merauke', 'tura', 'christchurch', 'kluang', 'zigong', 'bridlington', 'zolnoye', 'manggar', 'amga', 'berlevag', 'la ronge', 'poso', 'tadine', 'oliveira do hospital', 'hirara', 'pachino', 'baft', 'marsabit', 'manokwari', 'ridgecrest', 'ignacio zaragoza', 'guerrero negro', 'khandyga', 'porto novo', 'coquimbo', 'east london', 'sisophon', 'pandan', 'dafeng', 'marshfield', 'ende', 'kyabe', 'manzil tamim', 'mandalgovi', 'gasan', 'bo rai', 'trairi', 'waipawa', 'patnos', 'isangel', 'nuevitas', 'adana', 'kuche', 'semaria', 'ulladulla', 'hailey', 'taoudenni', 'ouadda', 'katherine', 'namatanai', 'piracuruca', 'luderitz', 'pucallpa', 'buin', 'iralaya', 'kungurtug', 'narsaq', 'zaraza', 'hue', 'hammerfest', 'kotido', 'suzu', 'tasbuget', 'inta', 'manyoni', 'popondetta', 'bagaha', 'raga', 'lagoa', 'los llanos de aridane', 'sao miguel do araguaia', 'sukhumi', 'ciudad bolivar', 'mizpe ramon', 'agirish', 'mwanza', 'san rafael', 'masvingo', 'werda', 'yulara', 'cherskiy', 'olafsvik', 'russell', 'porto recanati', 'barranca', 'viligili', 'sarmanovo', 'dvinskoy', 'veracruz', 'nemuro', 'camana', 'alofi', 'muros', 'richards bay', 'borama', 'port hueneme', 'yokadouma', 'ville-marie', 'bathsheba', 'auchel', 'velsk', 'te anau', 'constitucion', 'dzhusaly', 'zemaiciu naumiestis', 'itoman', 'manta', 'birin', 'atar', 'hailar', 'klaksvik', 'necochea', 'hasaki', 'tumannyy', 'ukiah', 'bauchi', 'pilar', 'octeville', 'tabiauea', 'shubarshi', 'phultala', 'bay roberts', 'qui nhon', 'nome', 'mahenge', 'yorosso', 'bardiyah', 'manaquiri', 'aklavik', 'cermik', 'macas', 'boa vista', 'umm lajj', 'grafton', 'jumla', 'kupang', 'pavlohrad', 'lichtenburg', 'coahuayana', 'fare', 'faanui', 'alice springs', 'port hardy', 'zhanatas', 'bonavista', 'esperance', 'inhambane', 'krasnoselkup', 'murgab', 'mahuva', 'venado tuerto', 'khasan', 'ypsonas', 'lata', 'ust-ishim', 'gardan diwal', 'garissa', 'henties bay', 'ruatoria', 'pisco', 'strezhevoy', 'miaga', 'san borja', 'shimoda', 'mount darwin', 'warrnambool', 'zonguldak', 'misratah', 'noyabrsk', 'saint-leu', 'varfurile', 'port lincoln', 'jaisinghnagar', 'northam', 'zarate', 'port blair', 'vallenar', 'banda aceh', 'kathmandu', 'shevchenkove', 'verkhoyansk', 'mombetsu', 'agadir', 'buala', 'mumford', 'haibowan', 'kieta', 'japura', 'khash', 'orumiyeh', 'havelock', 'hamilton', 'aflu', 'belyy yar', 'minna', 'teya', 'villaviciosa', 'onalaska', 'havoysund', 'yumen', 'dubbo', 'omboue', 'bodden town', 'hunza', 'filadelfia', 'machali', 'emerald', 'whitehorse', 'praya', 'atlantic city', 'hualmay', 'yanchukan', 'otradnaya', 'ruidoso', 'zhongshu', 'luwuk', 'ascension', 'itapecerica', 'vigo', 'chisinau', 'peniche', 'asilah', 'price', 'grimari', 'tambopata', 'ginir', 'peringat', 'jiaojiang', 'suleja', 'neuquen', 'constantine', 'college', 'kibre mengist', 'porto walter', 'hamada', 'palabuhanratu', 'semarang', 'levelland', 'portland', 'abu samrah', 'pangody', 'panama city', 'jieshi', 'zwedru', 'yarmouth', 'sri aman', 'sagae', 'moron', 'masallatah', 'zharkovskiy', 'smidovich', 'rio gallegos', 'vieques', 'setermoen', 'saint-louis', 'miri', 'snezhnogorsk', 'plettenberg bay', 'vikhorevka', 'sibolga', 'pachperwa', 'hun', 'karjat', 'deep river', 'benghazi', 'touros', 'peace river', 'grand gaube', 'vao', 'leh', 'copiapo', 'saurimo', 'yaan', 'abalak', 'geraldton', 'turan', 'visby', 'sawakin', 'port augusta', 'chifeng']\n"
     ]
    }
   ],
   "source": [
    "print(cities)"
   ]
  },
  {
   "cell_type": "code",
   "execution_count": null,
   "metadata": {},
   "outputs": [],
   "source": []
  },
  {
   "cell_type": "markdown",
   "metadata": {},
   "source": [
    "### Perform API Calls\n",
    "* Perform a weather check on each city using a series of successive API calls.\n",
    "* Include a print log of each city as it'sbeing processed (with the city number and city name).\n"
   ]
  },
  {
   "cell_type": "code",
   "execution_count": 20,
   "metadata": {
    "scrolled": true
   },
   "outputs": [],
   "source": [
    "url = \"http://api.openweathermap.org/data/2.5/weather?\"\n",
    "units = \"imperial\""
   ]
  },
  {
   "cell_type": "code",
   "execution_count": null,
   "metadata": {},
   "outputs": [],
   "source": []
  },
  {
   "cell_type": "code",
   "execution_count": null,
   "metadata": {},
   "outputs": [],
   "source": []
  },
  {
   "cell_type": "code",
   "execution_count": null,
   "metadata": {},
   "outputs": [],
   "source": []
  },
  {
   "cell_type": "code",
   "execution_count": 21,
   "metadata": {},
   "outputs": [
    {
     "name": "stdout",
     "output_type": "stream",
     "text": [
      "Record not found\n",
      "Record not found\n",
      "Record not found\n",
      "Record not found\n",
      "Record not found\n",
      "Record not found\n",
      "Record not found\n",
      "Record not found\n",
      "Record not found\n",
      "Record not found\n",
      "Record not found\n",
      "Record not found\n",
      "Record not found\n",
      "Record not found\n",
      "Record not found\n",
      "Record not found\n",
      "Record not found\n",
      "Record not found\n",
      "Record not found\n",
      "Record not found\n",
      "Record not found\n",
      "Record not found\n",
      "Record not found\n",
      "Record not found\n",
      "Record not found\n",
      "Record not found\n",
      "Record not found\n",
      "Record not found\n",
      "Record not found\n",
      "Record not found\n",
      "Record not found\n",
      "Record not found\n",
      "Record not found\n",
      "Record not found\n",
      "Record not found\n",
      "Record not found\n",
      "Record not found\n",
      "Record not found\n",
      "Record not found\n",
      "Record not found\n",
      "Record not found\n",
      "Record not found\n",
      "Record not found\n",
      "Record not found\n",
      "Record not found\n",
      "Record not found\n",
      "Record not found\n",
      "Record not found\n",
      "Record not found\n",
      "Record not found\n"
     ]
    },
    {
     "ename": "NameError",
     "evalue": "name 'sets' is not defined",
     "output_type": "error",
     "traceback": [
      "\u001b[1;31m---------------------------------------------------------------------------\u001b[0m",
      "\u001b[1;31mNameError\u001b[0m                                 Traceback (most recent call last)",
      "\u001b[1;32m<ipython-input-21-6be89f41f1e5>\u001b[0m in \u001b[0;36m<module>\u001b[1;34m\u001b[0m\n\u001b[0;32m     33\u001b[0m     \u001b[1;32mif\u001b[0m \u001b[0mindex_counter\u001b[0m \u001b[1;33m==\u001b[0m \u001b[1;36m50\u001b[0m\u001b[1;33m:\u001b[0m\u001b[1;33m\u001b[0m\u001b[1;33m\u001b[0m\u001b[0m\n\u001b[0;32m     34\u001b[0m         \u001b[0mindex_counter\u001b[0m \u001b[1;33m=\u001b[0m \u001b[1;36m0\u001b[0m\u001b[1;33m\u001b[0m\u001b[1;33m\u001b[0m\u001b[0m\n\u001b[1;32m---> 35\u001b[1;33m         \u001b[0msets\u001b[0m \u001b[1;33m=\u001b[0m \u001b[0msets\u001b[0m \u001b[1;33m+\u001b[0m \u001b[1;36m1\u001b[0m\u001b[1;33m\u001b[0m\u001b[1;33m\u001b[0m\u001b[0m\n\u001b[0m\u001b[0;32m     36\u001b[0m \u001b[1;33m\u001b[0m\u001b[0m\n\u001b[0;32m     37\u001b[0m \u001b[0mprint\u001b[0m\u001b[1;33m(\u001b[0m\u001b[1;34m\"-----------------------------\"\u001b[0m\u001b[1;33m)\u001b[0m\u001b[1;33m\u001b[0m\u001b[1;33m\u001b[0m\u001b[0m\n",
      "\u001b[1;31mNameError\u001b[0m: name 'sets' is not defined"
     ]
    }
   ],
   "source": [
    "city_name_list = []\n",
    "cloudiness_list = []\n",
    "country_list = []\n",
    "date_list = []\n",
    "humidity_list = []\n",
    "lat_list = []\n",
    "lng_list = []\n",
    "max_temp_list = []\n",
    "wind_speed_list = []\n",
    "index_counter = 0\n",
    "set_counter = 1\n",
    "\n",
    "for city in cities:\n",
    "    query_url = f\"{url}appid={weather_api_key}&q={city}&units={units}\"\n",
    "    weather_json = requests.get(query_url).json()\n",
    "    \n",
    "    try:\n",
    "        cityname.append(weather_json['city']['name'])\n",
    "        cloudiness.append(weather_json['list'][0]['clouds']['all'])\n",
    "        country.append(weather_json['city']['country'])\n",
    "        date.append(weather_json['list'][0]['dt'])\n",
    "        humidity.append(weather_json['list'][0]['main']['humidity'])\n",
    "        lat.append(weather_json['city']['coord']['lat'])\n",
    "        lng.append(weather_json['city']['coord']['lon'])\n",
    "        max_temp.append(weather_json['list'][0]['main']['temp_max'])\n",
    "        wind_speed.append(weather_json['list'][0]['wind']['speed'])\n",
    "        count = count + 1\n",
    "        print(f\"Processing record {index_counter} of {set_counter} | {city}\")\n",
    "    except:\n",
    "        print(\"Record not found\") \n",
    "        \n",
    "    index_counter = index_counter + 1\n",
    "    if index_counter == 50:\n",
    "        index_counter = 0\n",
    "        sets = sets + 1    \n",
    "        \n",
    "print(\"-----------------------------\")        \n",
    "print(\"Data Retrieval Complete\")"
   ]
  },
  {
   "cell_type": "code",
   "execution_count": null,
   "metadata": {},
   "outputs": [],
   "source": []
  },
  {
   "cell_type": "code",
   "execution_count": null,
   "metadata": {},
   "outputs": [],
   "source": []
  },
  {
   "cell_type": "code",
   "execution_count": null,
   "metadata": {},
   "outputs": [],
   "source": []
  },
  {
   "cell_type": "code",
   "execution_count": null,
   "metadata": {},
   "outputs": [],
   "source": []
  },
  {
   "cell_type": "code",
   "execution_count": null,
   "metadata": {},
   "outputs": [],
   "source": []
  },
  {
   "cell_type": "code",
   "execution_count": null,
   "metadata": {},
   "outputs": [],
   "source": []
  },
  {
   "cell_type": "code",
   "execution_count": null,
   "metadata": {},
   "outputs": [],
   "source": []
  },
  {
   "cell_type": "markdown",
   "metadata": {},
   "source": [
    "### Convert Raw Data to DataFrame\n",
    "* Export the city data into a .csv.\n",
    "* Display the DataFrame"
   ]
  },
  {
   "cell_type": "code",
   "execution_count": null,
   "metadata": {},
   "outputs": [],
   "source": []
  },
  {
   "cell_type": "code",
   "execution_count": null,
   "metadata": {},
   "outputs": [],
   "source": []
  },
  {
   "cell_type": "markdown",
   "metadata": {},
   "source": [
    "## Inspect the data and remove the cities where the humidity > 100%.\n",
    "----\n",
    "Skip this step if there are no cities that have humidity > 100%. "
   ]
  },
  {
   "cell_type": "code",
   "execution_count": null,
   "metadata": {},
   "outputs": [],
   "source": []
  },
  {
   "cell_type": "code",
   "execution_count": null,
   "metadata": {},
   "outputs": [],
   "source": [
    "#  Get the indices of cities that have humidity over 100%.\n"
   ]
  },
  {
   "cell_type": "code",
   "execution_count": null,
   "metadata": {},
   "outputs": [],
   "source": [
    "# Make a new DataFrame equal to the city data to drop all humidity outliers by index.\n",
    "# Passing \"inplace=False\" will make a copy of the city_data DataFrame, which we call \"clean_city_data\".\n"
   ]
  },
  {
   "cell_type": "code",
   "execution_count": null,
   "metadata": {},
   "outputs": [],
   "source": [
    "\n"
   ]
  },
  {
   "cell_type": "markdown",
   "metadata": {},
   "source": [
    "## Plotting the Data\n",
    "* Use proper labeling of the plots using plot titles (including date of analysis) and axes labels.\n",
    "* Save the plotted figures as .pngs."
   ]
  },
  {
   "cell_type": "markdown",
   "metadata": {},
   "source": [
    "## Latitude vs. Temperature Plot"
   ]
  },
  {
   "cell_type": "code",
   "execution_count": null,
   "metadata": {
    "scrolled": true
   },
   "outputs": [],
   "source": []
  },
  {
   "cell_type": "markdown",
   "metadata": {},
   "source": [
    "## Latitude vs. Humidity Plot"
   ]
  },
  {
   "cell_type": "code",
   "execution_count": null,
   "metadata": {},
   "outputs": [],
   "source": []
  },
  {
   "cell_type": "markdown",
   "metadata": {},
   "source": [
    "## Latitude vs. Cloudiness Plot"
   ]
  },
  {
   "cell_type": "code",
   "execution_count": null,
   "metadata": {},
   "outputs": [],
   "source": []
  },
  {
   "cell_type": "markdown",
   "metadata": {},
   "source": [
    "## Latitude vs. Wind Speed Plot"
   ]
  },
  {
   "cell_type": "code",
   "execution_count": null,
   "metadata": {},
   "outputs": [],
   "source": []
  },
  {
   "cell_type": "markdown",
   "metadata": {},
   "source": [
    "## Linear Regression"
   ]
  },
  {
   "cell_type": "code",
   "execution_count": null,
   "metadata": {},
   "outputs": [],
   "source": []
  },
  {
   "cell_type": "markdown",
   "metadata": {},
   "source": [
    "####  Northern Hemisphere - Max Temp vs. Latitude Linear Regression"
   ]
  },
  {
   "cell_type": "code",
   "execution_count": null,
   "metadata": {},
   "outputs": [],
   "source": []
  },
  {
   "cell_type": "markdown",
   "metadata": {},
   "source": [
    "####  Southern Hemisphere - Max Temp vs. Latitude Linear Regression"
   ]
  },
  {
   "cell_type": "code",
   "execution_count": null,
   "metadata": {},
   "outputs": [],
   "source": []
  },
  {
   "cell_type": "markdown",
   "metadata": {},
   "source": [
    "####  Northern Hemisphere - Humidity (%) vs. Latitude Linear Regression"
   ]
  },
  {
   "cell_type": "code",
   "execution_count": null,
   "metadata": {},
   "outputs": [],
   "source": []
  },
  {
   "cell_type": "markdown",
   "metadata": {},
   "source": [
    "####  Southern Hemisphere - Humidity (%) vs. Latitude Linear Regression"
   ]
  },
  {
   "cell_type": "code",
   "execution_count": null,
   "metadata": {},
   "outputs": [],
   "source": []
  },
  {
   "cell_type": "markdown",
   "metadata": {},
   "source": [
    "####  Northern Hemisphere - Cloudiness (%) vs. Latitude Linear Regression"
   ]
  },
  {
   "cell_type": "code",
   "execution_count": null,
   "metadata": {},
   "outputs": [],
   "source": []
  },
  {
   "cell_type": "markdown",
   "metadata": {},
   "source": [
    "####  Southern Hemisphere - Cloudiness (%) vs. Latitude Linear Regression"
   ]
  },
  {
   "cell_type": "code",
   "execution_count": null,
   "metadata": {},
   "outputs": [],
   "source": []
  },
  {
   "cell_type": "markdown",
   "metadata": {},
   "source": [
    "####  Northern Hemisphere - Wind Speed (mph) vs. Latitude Linear Regression"
   ]
  },
  {
   "cell_type": "code",
   "execution_count": null,
   "metadata": {},
   "outputs": [],
   "source": []
  },
  {
   "cell_type": "markdown",
   "metadata": {},
   "source": [
    "####  Southern Hemisphere - Wind Speed (mph) vs. Latitude Linear Regression"
   ]
  },
  {
   "cell_type": "code",
   "execution_count": null,
   "metadata": {},
   "outputs": [],
   "source": []
  },
  {
   "cell_type": "code",
   "execution_count": null,
   "metadata": {},
   "outputs": [],
   "source": []
  }
 ],
 "metadata": {
  "anaconda-cloud": {},
  "kernel_info": {
   "name": "python3"
  },
  "kernelspec": {
   "display_name": "Python 3",
   "language": "python",
   "name": "python3"
  },
  "language_info": {
   "codemirror_mode": {
    "name": "ipython",
    "version": 3
   },
   "file_extension": ".py",
   "mimetype": "text/x-python",
   "name": "python",
   "nbconvert_exporter": "python",
   "pygments_lexer": "ipython3",
   "version": "3.6.10"
  },
  "latex_envs": {
   "LaTeX_envs_menu_present": true,
   "autoclose": false,
   "autocomplete": true,
   "bibliofile": "biblio.bib",
   "cite_by": "apalike",
   "current_citInitial": 1,
   "eqLabelWithNumbers": true,
   "eqNumInitial": 1,
   "hotkeys": {
    "equation": "Ctrl-E",
    "itemize": "Ctrl-I"
   },
   "labels_anchors": false,
   "latex_user_defs": false,
   "report_style_numbering": false,
   "user_envs_cfg": false
  },
  "nteract": {
   "version": "0.12.3"
  }
 },
 "nbformat": 4,
 "nbformat_minor": 2
}
